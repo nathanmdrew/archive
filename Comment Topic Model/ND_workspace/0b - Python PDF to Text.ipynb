{
 "cells": [
  {
   "cell_type": "code",
   "execution_count": 0,
   "metadata": {
    "application/vnd.databricks.v1+cell": {
     "cellMetadata": {
      "byteLimit": 2048000,
      "rowLimit": 10000
     },
     "inputWidgets": {},
     "nuid": "bae7c744-e204-41b3-82b0-18680c970ca2",
     "showTitle": false,
     "tableResultSettingsMap": {},
     "title": ""
    }
   },
   "outputs": [
    {
     "output_type": "stream",
     "name": "stdout",
     "output_type": "stream",
     "text": [
      "\u001B[43mNote: you may need to restart the kernel using dbutils.library.restartPython() to use updated packages.\u001B[0m\nRequirement already satisfied: PyPDF2 in /local_disk0/.ephemeral_nfs/envs/pythonEnv-619a29dc-b43c-4cf5-8117-75f0afee4df6/lib/python3.10/site-packages (3.0.1)\n\u001B[43mNote: you may need to restart the kernel using dbutils.library.restartPython() to use updated packages.\u001B[0m\n"
     ]
    }
   ],
   "source": [
    "%pip install PyPDF2"
   ]
  },
  {
   "cell_type": "code",
   "execution_count": 0,
   "metadata": {
    "application/vnd.databricks.v1+cell": {
     "cellMetadata": {
      "byteLimit": 2048000,
      "rowLimit": 10000
     },
     "inputWidgets": {},
     "nuid": "2c8a9ac2-6c59-44de-9f5e-4f580b55ef29",
     "showTitle": false,
     "tableResultSettingsMap": {},
     "title": ""
    }
   },
   "outputs": [
    {
     "output_type": "execute_result",
     "data": {
      "text/plain": [
       "7"
      ]
     },
     "execution_count": 25,
     "metadata": {},
     "output_type": "execute_result"
    }
   ],
   "source": [
    "import PyPDF2\n",
    "import os\n",
    "\n",
    "#list all pdfs in the directory\n",
    "def list_pdfs_os(directory):\n",
    "    return [f for f in os.listdir(directory) if f.endswith('.pdf')]\n",
    "\n",
    "directory = '/Volumes/edav_dev_ddnid_niosh/wfsp/datafiles/wfsh_rfi_attachments'\n",
    "\n",
    "fileList = list_pdfs_os(directory)\n"
   ]
  },
  {
   "cell_type": "code",
   "execution_count": 0,
   "metadata": {
    "application/vnd.databricks.v1+cell": {
     "cellMetadata": {
      "byteLimit": 2048000,
      "rowLimit": 10000
     },
     "inputWidgets": {},
     "nuid": "6214f9d9-9e4c-4a8c-8ce5-654b79cdd273",
     "showTitle": false,
     "tableResultSettingsMap": {},
     "title": ""
    }
   },
   "outputs": [
    {
     "output_type": "execute_result",
     "data": {
      "text/plain": [
       "' \\nMay 13, 2024 \\nJohn Howard MD JD \\nDirector, National Institutes for Occupational Safety and Health \\n1600 Clifton Road Room 4505, MS E-20 \\nAtlanta, GA 30329  \\nRE: (CDC–2024–0019, NIOSH–352) - National Institute for Occupational Safety and Health; Outdoor Workers Exposed to \\nWildland Fire Smoke; Request for Information \\n \\nDr. Howard:  \\nOn behalf of the members of the American Thoracic Society, \\nwe appreciate the opportunity to submit comments on NIOSH’s \\nrequest for information:  Outdoor Workers Exposed to Wildland \\nFire Smoke (CDC-2024-0019, NIOSH-352). \\n \\nThe American Thoracic Society is the world\\'s leading medical \\nsociety dedicated to accelerating the advancement of global \\nrespiratory health through multidisciplinary collaboration, \\neducation, and advocacy. Core activities of the Society’s more \\nthan 16,000 members are focused on leading scientific \\ndiscoveries, advancing professional development, impacting \\nglobal health, and transforming patient care.  As respiratory \\nhealth experts, we are keenly aware and concerned about the \\nadverse health consequences of exposure to wildland fire \\nsmoke. ATS members are thought leaders in studying the \\nhealth effects of exposure to wildland fire smoke and our \\nmembers treat patients who are impacted by acute and chronic \\nexposure to wildland fire smoke.   \\nOur comments reflect current knowledge based on published \\nliterature and ongoing work of members of the ATS. Of note, in \\n2021, the ATS workshop report “Respiratory impacts of \\nwildland fire smoke: future challenges and policy opportunities. \\nAn official American Thoracic Society workshop report”1 \\nsummarizes a great deal of current literature and research needs. In addition to the findings in our workshop report, we \\noffer the following comments, grouped by NIOSH topic priorities  \\n \\n \\n delineated in the RFI (https://www.federalregister.gov/documents/2024/03/14/2024-\\n05403/national-institute-for-occupational-safety-and-health-outdoor-workers-exposed-to-wildland-fire-smoke).   \\n1. Properties and characteristics of wildland fire smoke mixtures  \\nWildland fire smoke is made up of gaseous pollutants, fixed nitrogen, and particulate matter \\n(PM), which is primarily carbonaceous.\\n2 Wildland fire composition is highly variable depending \\non geographic zones, vegetation type, and temporal factors.3 This variation contributes to \\ndifferences in potential human health hazards and has implications for monitoring and risk mitigation strategies. PM produced from wildland fires has a greater component of carbonaceous materials and polar organic compounds with high oxidative potential than does \\nurban PM, which is classically derived from industrial, transportation, and agriculture-related \\npollution.\\n4 The wildland fire-derived PM has the potential for greater free-radical production and \\ninduction of oxidative stress, which likely contributes to the adverse human health impacts of wildland smoke exposure.\\n5 These effects are likely to be most pronounced in individuals with \\nthe greatest burden of wildland fire smoke exposur e, of which outdoor workers are at high risk. \\nIncreasingly there is recognition of how wildl and fire smoke composition changes over time and \\nspace as one moves away from the initial site of a burn. During the initial stages of a wildland fire in close proximity to the source of the burn, the emitted PM is referred to as the primary \\nbiomass burning organic aerosol. Secondary organic aerosols are produced through a process \\nof oxidation of emitted gaseous vapors that convert into a particle phase.\\n2 As the smoke plume \\nspreads over time and space, it becomes more diluted and reacts with existing gases and PM in the air, modified by factors like exposure to sunlight and temperature. These interactions may \\nbe particularly deleterious when mixing with the pollution mixture encountered in highly \\npopulated urban regions, where traffic-related nitrogen oxide (NOx)-rich pollutants predominate. Recent work has demonstrated that when wildland fire smoke plumes and urban pollutants mix, that the development of ozone can be accelerated,\\n6 which in turn may contribute to excess \\nozone-related morbidity and mortality. This is of particular concern for outdoor workers in urban \\nsettings who may experience a compounded risk of excess ozone exposure due to the \\ncombination of extreme heat and wildland smoke, which is becoming an increasingly common scenario in our warming climate.\\n7  \\n \\n \\n 2. Potential for occupational exposures to outdoor workers/outdoor worker populations \\nat risk  \\nWildland fire smoke exposure is associated with substantial morbidity and mortality8, posing a \\nmajor concern for outdoor workers, particularly those in regions with a high risk of wildland fires \\nor who work in firefighting, forestry, agriculture, landscaping, delivery, or construction. Outdoor workers face increased risk because of their working environment, spending most of their time outside, and job tasks that may increase their respiratory rate, leading to inhaling a substantial \\namount of smoke particles. Moreover, wildfire season often coincides with construction\\n9 and \\nharvest seasons10, which increases the risk of occupational exposure.   \\nResearch from the University of Washington found that three out of four farmworkers reported \\nexperiencing exposure to unhealthy levels of smok e, yet their work routines or activities \\nremained unchanged.11 Studies using workers’ compensation injury claims data reported that \\nwildfire smoke likely contributes to a 2.8 - 4 % increase in workplace injury claims across all workers,\\n12 with agriculture and construction workers particularly susceptible to an 11% increase \\nin injury claims.13  \\nHowever, the health risks of occupational exposure to wildland smoke are understudied, \\nespecially for non-firefighting occupations. There are currently no studies assessing the risk, but there is a growing concern for construction workers, park workers, tree planters, delivery \\nworkers, and retail employees because of their working conditions. Delivery workers often lack \\nair conditioning and have frequent stops, leading them to keep open doors regardless of smoke. Retail employees also face increased risk due to smoke wafting through open doorways or automatic doors.\\n14 Current objective data on the potential exposure of these occupations are \\nlacking.  \\nMoreover, it is important to recognize that multiple threats intersect for outdoor workers, \\nespecially those engaged in heavy labor. For example, heat threats often intersect with the \\nthreat of wildfire smoke exposure. Furthermore, many in agricultural labor may \\ndisproportionately come from those with uncertain immigration status, limiting their willingness to speak up about potential labor violations. Heat related deaths are highest in the agriculture and construction industries, those of Hispanic ancestry, men, and those working for smaller employers\\n15. It is for these reasons that enforcement must not rely on identifiable workplace \\nreporting, but intermittent unannounced inspections and/or anonymous reporting options.   \\n \\n \\n 3. Health effects of exposures \\nStudies that specifically examine the health effects of exposure among outdoor workers other \\nthan firefighters are relatively understudied.16 However, there is substantial literature on the \\nimpact of wildfire smoke on the general population, indicating that exposure to wildland smoke \\naffects a wide range of human health. A large number of studies agree that it has effects on \\nrespiratory health, leading to an increase in respiratory-related mortality and morbidity17, \\nincreased lung cancer incidence17, reduced lung function, asthma exacerbations,18,19 respiratory \\nmedication dispensations, and respiratory infections. \\nIn addition to adverse respiratory outcomes, exposure to wildfire smoke is associated with \\nnegative health outcomes in several domains. Prior research supports an increase in \\ncardiovascular-related mortality and morbidity.20 A growing literature also suggests that wildfire \\nsmoke during pregnancy is highly related to adverse pregnancy and birth outcomes.21 Recent \\nliterature also highlights that wildfire smoke may associated with mental health by causing \\nstress, anxiety, and emotional distress.22   \\nThe mechanisms that account for the adverse human health effects of wildfire smoke exposure \\nare varied. Wildfire smoke is likely to trigger oxidative stress and inflammation23, impact on \\nmetabolic system24 , affect the immune system and epithelial barriers,25 impair nervous system \\nfunction, cause vascular dysfunction, damage particular chemical pathways in the bloodstream, \\nand cause epigenetic alterations.26-28 \\n4. Exposure monitoring, risk management and control \\nManaging and controlling the risk associated with wildland smoke exposure involves several key \\nstrategies to protect the health and safety of outdoor workers. Educating workers and employers on the risks associated with smoke exposure, promoting the use of personal protective equipment, and emergency response to hazards can reduce the adverse health effects of \\nsmoke. Research shows that the employer and supervisor’s attitude toward safety is one of the \\nmajor impacts on the implementation of workplace safety measures, suggesting that increased awareness of the risk through educating employer s is key to implementing successful risk \\nmanagement strategies.\\n29,30  \\n \\n \\n Heavy outdoor labor with increased exertion results in increased respiratory drive, leading \\nworkers to inhale a larger “dose” of unhealthy air.31 Interventions that are aimed at decreasing \\nexertion would be expected to help with mitigating harms of outdoor work in times of high wildland fire smoke exposure. For example, a ccess to shaded areas for rest and/or continuous \\nshade structures, misting or cooling interventions, and access to clean air refuges where \\npossible, would be expected to mitigate compounding harms of outdoor work in times of high heat and elevated particulate matter.  \\nIn particular, the workplace should develop and implement administrative controls, such as \\nadjusting the working schedule to minimize outdoor work during periods of high smoke levels. Implementing real-time air quality monitoring syst ems in the workplace to track air pollutants \\nfrom wildland smoke can be beneficial to in form awareness and positive behavior changes to \\nminimize exposure to wildfire smoke.\\n32  Providing rest breaks in a clean air zone, and \\nimplementing smoke exposure safety guidelines, may help mitigate exposures.1 Studies have \\nfound that implementing air filtration systems with HEPA filters or installing portable air cleaners in indoor workplaces to create clean air rest areas can reduce exposures by 20-80%.\\n30,33  \\nProviding and encouraging the use of personal protective equipment (PPE), such as N95 \\nrespirators or higher-rated masks, can also reduce exposure to smoke. This is highly effective, reducing more than 90% when properly used and if the quality of fit is good.\\n34,35 However, \\nworkers have previously reported discomfort with masks in context of high activity and heat \\nstress. Future work should focus on development of acceptable and effective PPE as a tool to \\ndecrease worker exposure. All risk management strategies should be developed with adequate communication channels for training and dissemination of information with options for multiple languages.  \\n5. Research needs \\nOccupational exposure to wildland smoke is a growing concern for outdoor workers and \\nrequires more attention to address various aspects of its impact on health. Focusing on \\nresearch as it pertains to solutions of reducing the burden of exposure and reducing the frequency and length of any given exposure is important. Understanding the effects that compound over time and the course of employment of a worker is important to study, as is the cumulation of mental health and cognitive effects of smoke exposure. Additionally, unintended  \\n \\n \\n consequences of solutions (fire retardant, PFAS-containing clothing, etc.) should also be \\nstudied. \\nThe health effects arising from fire-altered toxic metals natural to soils and plants and the \\ndeposition of ash and toxic chemicals from smoke in the soil are underrecognized.36 A recent \\nstudy found that high temperatures during wildfire s catalyzed the transformation of chromium to \\nhexavalent chromium, a known carcinogenic form, in soil and ash, particularly in areas with metal-rich geologies.\\n37 Research on farmworkers has also highlighted that, along with the \\nexposure to wildfire smoke, the deposition of ashes from wildland smoke into the soil can \\naccumulate hazardous chemicals and toxic elements, causing harmful effects on health36. \\nIncreasing literature on firefighter studies found that PFAS and fire retardants are associated with elevated cancer risk, disrupt the immune system, cause developmental and reproductive harm, and disrupt hormones.\\n38 These toxic chemicals can be dissolved in water and soil, which \\ncan cause harm to farmworkers and construction workers. \\nCurrent studies lack susceptibility identification among workers, which is crucial for \\nunderstanding how certain individuals or groups are more vulnerable to health risks in the \\nworkplace. Based on previous literature on wildfire smoke exposure and health, factors include \\nage, sex/gender, race/ethnicity, and genetics.39 Children, elderly individuals, pregnant women, \\nand individuals with pre-existing conditions are well-known factors that increase the susceptibility to health risks from PM. In addition to those factors, work characteristics such as \\nworkplace environment, whether it is shift or temporary work, and availability of workers\\' \\ncompensation and resources, can also affect susceptibility to wildfire smoke exposure.\\n40    \\nAs such, there is a need to develop surveillance, monitoring, or cohorts in vulnerable worker \\npopulations to track health trends and environmental factors. This can provide evidence for \\ndeveloping health interventions and policies, including appropriate safety guidelines for specific types of workers. \\nIn summary, members of the ATS look forward to continuing our work on investigating the heath \\neffects of wildfire smoke exposure, and to develop strategies to mitigate exposure in occupations most vulnerable.  \\nOn behalf of the ATS Environmental Health Policy Committee, we hope these comments are \\nuseful as NIOSH considers further action to address worker exposures to wildland fire smoke.  \\n \\n \\n Sincerely, \\nAlison Lee MD, MS \\nChair \\nATS Environmental Health Policy Committee \\n \\n Laura M. Paulin MD, MHS \\nMember, \\nATS Environmental Health Policy Committee \\n \\n   \\n \\n \\n References  \\n1. Rice MB, Henderson SB, Lambert AA, et al. Respiratory impacts of wildland fire smoke: \\nfuture challenges and policy opportunities. An official American Thoracic Society \\nworkshop report. Annals of the American Thoracic Society. 2021;18(6):921-930. \\n2. Palm BB, Peng Q, Fredrickson CD, et al. Quantification of organic aerosol and brown \\ncarbon evolution in fresh wildfire plumes. Proceedings of the National Academy of \\nSciences. 2020;117(47):29469-29477. \\n3. Urbanski SP, Hao WM, Baker S. Chemical composition of wildland fire emissions. \\nDevelopments in environmental science. 2008;8:79-107. \\n4. Aguilera R, Corringham T, Gershunov A, Benmarhnia T. Wildfire smoke impacts \\nrespiratory health more than fine particles from other sources: observational evidence from Southern California. Nature Communications. 2021;12(1):1493. \\n5. Williams KM, Franzi LM, Last JA. Cell-specific oxidative stress and cytotoxicity after \\nwildfire coarse particulate matter instillation into mouse lung. Toxicology and applied \\npharmacology. 2013;266(1):48-55. \\n6. Xu L, Crounse JD, Vasquez KT, et al. Ozone chemistry in western US wildfire plumes. \\nScience advances. 2021;7(50):eabl3648. \\n7. Fann NL, Nolte CG, Sarofim MC, Martinich J, Nassikas NJ. Associations Between \\nSimulated Future Changes in Climate, Air Quality, and Human Health. JAMA Network \\nOpen. 2021;4(1):e2032064-e2032064. \\n8. Gould CF, Heft-Neal S, Johnson M, Aguilera J, Burke M, Nadeau K. Health Effects of \\nWildfire Smoke Exposure. Annu Rev Med. 2024;75:277-292. \\n9. Zuidema C, Austin E, Cohen MA, et al. Potential impacts of Washington State\\'s wildfire \\nworker protection rule on construction workers. Ann Work Expo Health. 2022;66(4):419-\\n432. \\n10. Reyes Becerra N. Impacts of the Climate Crisis on Farmworkers. Each Breath, A Blog \\nby the American Lung Assocation  2023. \\n11. Cruz I. Mattawa Farmworkers\\' Under the Smoke 2018. 12. Cabral M, Dillender M. Air Pollution, Wildfire Smoke, and Worker Health.  National \\nBureau of Economic Research;2024. \\n13. Evoy R, Hystad P, Bae H, Kincl L. The impact of wildfire smoke and temperature on \\ntraumatic worker injury claims, Oregon 2009-2018. Health Sci Rep. 2022;5(5):e820. \\n14. National Association of Letter Carriers. NALC urging USPS to protect carriers from \\nhazardous air quality 2023  \\n15. Gubernot DM, Anderson GB, Hunting KL. Characterizing occupational heat-related \\nmortality in the United States, 2000-2010: an analysis using the Census of Fatal \\nOccupational Injuries database. Am J Ind Med. 2015;58(2):203-211. \\n16. Held MB, Ragland MR, Wood S, et al. Environmental health of wildland firefighters: a \\nscoping review. Fire Ecology. 2024;20(1):16. \\n17. Cromar K, Gladson L, Gohlke J, Li Y, Tong D, Ewart G. Adverse Health Impacts of \\nOutdoor Air Pollution, Including from Wildland Fires, in the United States: \"Health of the \\nAir,\" 2018-2020. Ann Am Thorac Soc. 2024;21(1):76-87. \\n18. Sampath V, Aguilera J, Prunicki M, Nadeau KC. Mechanisms of climate change and \\nrelated air pollution on the immune system leading to allergic disease and asthma. Semin Immunol. 2023;67:101765. \\n19. Horne BD, Johnson MM, Blagev DP, et al. Association of Short-term Increases in \\nAmbient Fine Particulate Matter With Hospitalization for Asthma or COPD During Wildfire Season and Other Time Periods. CHEST Pulmonary. 2024:100053.  \\n \\n \\n 20. Navarro KM, Kleinman MT, Mackay CE, et al. Wildland firefighter smoke exposure and \\nrisk of lung cancer and cardiovascular disease mortality. Environmental research. \\n2019;173:462-468. \\n21. Basilio E, Chen R, Fernandez AC, Padula AM, Robinson JF, Gaw SL. Wildfire Smoke \\nExposure during Pregnancy: A Review of Potential Mechanisms of Placental Toxicity, Impact on Obstetric Outcomes, and Strategies to Reduce Exposure. International journal \\nof environmental research and public health. 2022;19(21). \\n22. Eisenman DP, Galway LP. The mental health an d well-being effects of wildfire smoke: a \\nscoping review. BMC Public Health. 2022;22(1):2274. \\n23. Prunicki MM, Dant CC, Cao S, et al. Immunologic effects of forest fire exposure show \\nincreases in IL-1beta and CRP. Allergy. 2020;75(9):2356-2358. \\n24. Coker RH, Murphy CJ, Johannsen M, Galvin G, Ruby BC. Wildland Firefighting: Adverse \\nInfluence on Indices of Metabolic and Cardiovascular Health. J Occup Environ Med. \\n2019;61(3):e91-e94. \\n25. Aguilera J, Kaushik A, Cauwenberghs N, et al. Granzymes, IL-16, and poly(ADP-ribose) \\npolymerase 1 increase during wildfire smoke exposure. J Allergy Clin Immunol Glob. \\n2023;2(2). \\n26. Prunicki M, Kelsey R, Lee J, et al. The impact of prescribed fire versus wildfire on the \\nimmune and cardiovascular systems of children. Allergy. 2019;74(10):1989-1991. \\n27. Agache I, Akdis C, Akdis M, et al. Immune-mediated disease caused by climate change-\\nassociated environmental hazards: mitigation and adaptation. Frontiers in Science. \\n2024;2:1279192. \\n28. Grant E, Runkle JD. Long-term health effects of wildfire exposure: a scoping review. The \\njournal of climate change and health. 2022;6:100110. \\n29. Riden HE, Giacinto R, Wadsworth G, Rainwater J, Andrews T, Pinkerton KE. Wildfire \\nSmoke Exposure: Awareness and Safety Responses in the Agricultural Workplace. Journal of agromedicine. 2020;25(3):330-338. \\n30. Barn PK, Elliott CT, Allen RW, Kosatsky T, Rideout K, Henderson SB. Portable air \\ncleaners should be at the forefront of the public health response to landscape fire smoke. Environmental Health. 2016;15:1-8. \\n31. Marmett B, Pires Dorneles G, Böek Carvalho R, et al. Air pollution concentration and \\nperiod of the day modulates inhalation of  PM2.5 during moderate- and high-intensity \\ninterval exercise. Environmental research. 2021;194:110528. \\n32. Park YM, Chavez D, Sousan S, Figueroa-Bernal N, Alvarez JR, Rocha-Peralta J. \\nPersonal exposure monitoring using GPS-enabl ed portable air pollution sensors: A \\nstrategy to promote citizen awareness and behavioral changes regarding indoor and outdoor air pollution. Journal of exposure science & environmental epidemiology. \\n2023;33(3):347-357. \\n33. Laumbach RJ. Clearing the Air on Personal Interventions to Reduce Exposure to \\nWildfire Smoke. Annals of the American Thoracic Society. 2019;16(7):815-818. \\n34. D\\'Alessandro MKMSJMMSSDLHCRL. Protecting Workers and the Public from Wildfire \\nSmoke. NIOSH Science Blog 2023. \\n35. Cherry N, Broznitsky N, Fedun M, Zadunayski T. Respiratory tract and eye symptoms in \\nwildland firefighters in two Canadian provinces: Impact of discretionary use of an N95 \\nmask during successive rotations. International journal of environmental research and \\npublic health. 2022;19(20):13658. \\n36. Wan X, Li C, Parikh SJ. Chemical composition of soil-associated ash from the southern \\nCalifornia Thomas Fire and its potential inhalation risks to farmworkers. Journal of \\nEnvironmental Management. 2021;278:111570.  \\n \\n \\n 37. Lopez AM, Pacheco JL, Fendorf S. Metal toxin threat in wildland fires determined by \\ngeology and fire severity. Nature Communications. 2023;14(1):8007. \\n38. Maizel A, Thompson A, Tighe M, et al. Per-and Polyfluoroalkyl Substances in Firefighter \\nTurnout Gear Textiles Exposed to Abrasion, Elevated Temperature, Laundering, or Weathering. 2024. \\n39. Kiyohara C, Shirakawa T, Hopkin JM. G enetic polymorphism of enzymes involved in \\nxenobiotic metabolism and the risk of lung cancer. Environmental health and preventive \\nmedicine. 2002;7(2):47-59. \\n40. Flynn MA, Check P, Steege AL, Sivén JM, Syron LN. Health Equity and a Paradigm \\nShift in Occupational Safety and Health. International journal of environmental research \\nand public health. 2021;19(1).   \\n '"
      ]
     },
     "execution_count": 29,
     "metadata": {},
     "output_type": "execute_result"
    }
   ],
   "source": [
    "# initialize a vector of strings to store all of the extracted text from each pdf\n",
    "allOutputs = empty_string_vector = ['' for _ in range(len(fileList))] \n",
    "\n",
    "# loop through each pdf in the directory, extract text from each page, coalesce\n",
    "for j in range(len(fileList)):\n",
    "    reader = PyPDF2.PdfReader(directory + '/' + fileList[j])\n",
    "    # number of pages\n",
    "    count = len(reader.pages)\n",
    "\n",
    "    # initialize string to store extracted text from the current pdf\n",
    "    output = ''\n",
    "\n",
    "    # extract each page and coalesce text\n",
    "    for i in range(count):\n",
    "        page = reader.pages[i]\n",
    "        output += page.extract_text()\n",
    "\n",
    "    allOutputs[j] = output\n"
   ]
  },
  {
   "cell_type": "code",
   "execution_count": 0,
   "metadata": {
    "application/vnd.databricks.v1+cell": {
     "cellMetadata": {
      "byteLimit": 2048000,
      "rowLimit": 10000
     },
     "inputWidgets": {},
     "nuid": "27f2f636-50d7-4865-ac07-8a577ccd9ccb",
     "showTitle": false,
     "tableResultSettingsMap": {},
     "title": ""
    }
   },
   "outputs": [],
   "source": [
    "import numpy as np\n",
    "import pandas as pd\n",
    "pd.set_option('display.max_colwidth', None)  # Shows full text\n",
    "import re\n",
    "\n",
    "# read in the original csv bulk download into a pandas dataframe\n",
    "df = pd.read_csv('/Volumes/edav_dev_ddnid_niosh/wfsp/datafiles/wfsh_rfi_original_comments.csv')\n",
    "\n",
    "# combine directory list with the extracted text\n",
    "toAppend = np.column_stack((fileList, allOutputs))\n",
    "\n",
    "#add column names to toAppend\n",
    "toAppend2 = pd.DataFrame(toAppend, columns=['PDF Files', 'Extracted Text'])\n",
    "\n",
    "# add a new column called Attachment Files to toAppend2\n",
    "toAppend2['Attachment Files'] = \"https://downloads.regulations.gov/\" + toAppend2['PDF Files']\n",
    "\n",
    "# the attachment file string doesn't quite match the original link\n",
    "def replaceSubstr(text):\n",
    "    text = re.sub(\"_attachment\", \"/attachment\", text)\n",
    "    return text\n",
    "\n",
    "toAppend2.loc[:, \"Attachment Files\"] = toAppend2.loc[:, \"Attachment Files\"].apply(replaceSubstr) \n",
    "\n",
    "# merge df and toAppend2 by `Attachment Files`\n",
    "df2 = pd.merge(df, toAppend2, on='Attachment Files', how='left')\n",
    "\n",
    "# combine pre-existing comment with the extracted text.\n",
    "df2['Comment'] = df2['Comment'] + df2['Extracted Text']\n",
    "\n",
    "\n"
   ]
  },
  {
   "cell_type": "code",
   "execution_count": 0,
   "metadata": {
    "application/vnd.databricks.v1+cell": {
     "cellMetadata": {},
     "inputWidgets": {},
     "nuid": "6730a62e-d48d-4bee-b98f-8e28299ea834",
     "showTitle": false,
     "tableResultSettingsMap": {},
     "title": ""
    }
   },
   "outputs": [],
   "source": [
    "# Save the Pandas DataFrame to a CSV file with overwrite option\n",
    "df2.to_csv(f'/Volumes/edav_dev_ddnid_niosh/wfsp/datafiles/wfsh_rfi_original_comments_withExtractedText.csv', mode='w', index=False)"
   ]
  }
 ],
 "metadata": {
  "application/vnd.databricks.v1+notebook": {
   "computePreferences": null,
   "dashboards": [],
   "environmentMetadata": null,
   "inputWidgetPreferences": null,
   "language": "python",
   "notebookMetadata": {
    "pythonIndentUnit": 4
   },
   "notebookName": "0b - Python PDF to Text",
   "widgets": {}
  },
  "language_info": {
   "name": "python"
  }
 },
 "nbformat": 4,
 "nbformat_minor": 0
}